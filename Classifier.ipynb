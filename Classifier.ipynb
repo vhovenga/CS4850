{
  "nbformat": 4,
  "nbformat_minor": 0,
  "metadata": {
    "kernelspec": {
      "display_name": "Python 3.7 (tensorflow)",
      "language": "python",
      "name": "tensorflow"
    },
    "language_info": {
      "codemirror_mode": {
        "name": "ipython",
        "version": 3
      },
      "file_extension": ".py",
      "mimetype": "text/x-python",
      "name": "python",
      "nbconvert_exporter": "python",
      "pygments_lexer": "ipython3",
      "version": "3.7.9"
    },
    "colab": {
      "name": "Classifier.ipynb",
      "provenance": [],
      "include_colab_link": true
    },
    "accelerator": "GPU"
  },
  "cells": [
    {
      "cell_type": "markdown",
      "metadata": {
        "id": "view-in-github",
        "colab_type": "text"
      },
      "source": [
        "<a href=\"https://colab.research.google.com/github/vhovenga/CS4850/blob/main/Classifier.ipynb\" target=\"_parent\"><img src=\"https://colab.research.google.com/assets/colab-badge.svg\" alt=\"Open In Colab\"/></a>"
      ]
    },
    {
      "cell_type": "code",
      "metadata": {
        "id": "YzBs526aMkBV"
      },
      "source": [
        "import tensorflow as tf\n",
        "from tensorflow import keras \n",
        "from tensorflow.keras import layers, models\n",
        "import gspread\n",
        "import pandas as pd\n",
        "import numpy as np\n",
        "from oauth2client.service_account import ServiceAccountCredentials\n",
        "import pickle \n",
        "import pywt\n",
        "import matplotlib.pyplot as plt\n",
        "from tensorflow.keras import regularizers\n",
        "from keras.utils import to_categorical\n"
      ],
      "execution_count": null,
      "outputs": []
    },
    {
      "cell_type": "code",
      "metadata": {
        "id": "8yY3LBavf_6i",
        "colab": {
          "base_uri": "https://localhost:8080/"
        },
        "outputId": "9caffcdf-843e-42ba-c80b-db8bcdfe6e0c"
      },
      "source": [
        "from google.colab import drive\n",
        "drive.mount('/content/drive')"
      ],
      "execution_count": null,
      "outputs": [
        {
          "output_type": "stream",
          "text": [
            "Mounted at /content/drive\n"
          ],
          "name": "stdout"
        }
      ]
    },
    {
      "cell_type": "code",
      "metadata": {
        "id": "z2-iasEpPEpN"
      },
      "source": [
        "from google.colab import auth\n",
        "auth.authenticate_user()\n",
        "\n",
        "import gspread\n",
        "from oauth2client.client import GoogleCredentials\n",
        "\n",
        "gc = gspread.authorize(GoogleCredentials.get_application_default())\n"
      ],
      "execution_count": null,
      "outputs": []
    },
    {
      "cell_type": "code",
      "metadata": {
        "id": "F_FUngfMMkBZ"
      },
      "source": [
        "\n",
        "\n",
        "histidine_train = gc.open(\"histidine_image_scan_000_Spec.Data 1_F\").sheet1\n",
        "glycine_train = gc.open(\"GlycineMap_1sInt_50x50scans_001_Spec.Data 1_F\").sheet1\n",
        "leucine_train = gc.open(\"Leucine_image_scan_000_Spec.Data 1_F\").sheet1\n",
        "asparagine_train = gc.open(\"AsparagineMap_1sInt_50x50scans_002_Spec.Data 1_F\").sheet1\n",
        "lysine_train = gc.open(\"Lysine\").sheet1\n",
        "\n",
        "histidine_test = gc.open(\"Histidine_Test\").sheet1\n",
        "glycine_test = gc.open(\"Glycine_Test\").sheet1\n",
        "leucine_test = gc.open(\"Leucine_Test\").sheet1\n",
        "asparagine_test = gc.open(\"Asparagin_Test\").sheet1\n",
        "lysine_test = gc.open(\"Lysine_Test\").sheet1\n"
      ],
      "execution_count": null,
      "outputs": []
    },
    {
      "cell_type": "code",
      "metadata": {
        "id": "7RuMUT_g2Yr2"
      },
      "source": [
        ""
      ],
      "execution_count": null,
      "outputs": []
    },
    {
      "cell_type": "code",
      "metadata": {
        "id": "XqLSkmMBMkBd"
      },
      "source": [
        "hist_train = histidine_train.get_all_records()\n",
        "gly_train = glycine_train.get_all_records()\n",
        "leu_train = leucine_train.get_all_records()\n",
        "asp_train = asparagine_train.get_all_records()\n",
        "lys_train = lysine_train.get_all_records()\n",
        "\n",
        "hist_test = histidine_test.get_all_records()\n",
        "gly_test  = glycine_test.get_all_records()\n",
        "leu_test = leucine_test.get_all_records()\n",
        "asp_test = asparagine_test.get_all_records()\n",
        "lys_test = lysine_test.get_all_records()"
      ],
      "execution_count": null,
      "outputs": []
    },
    {
      "cell_type": "code",
      "metadata": {
        "id": "i7iThsdYMkBh"
      },
      "source": [
        "hist_train = pd.DataFrame(hist_train)\n",
        "gly_train = pd.DataFrame(gly_train)\n",
        "leu_train = pd.DataFrame(leu_train)\n",
        "asp_train = pd.DataFrame(asp_train)\n",
        "lys_train = pd.DataFrame(lys_train)\n",
        "\n",
        "hist_test = pd.DataFrame(hist_test)\n",
        "gly_test = pd.DataFrame(gly_test)\n",
        "leu_test = pd.DataFrame(leu_test)\n",
        "asp_test = pd.DataFrame(asp_test)\n",
        "lys_test = pd.DataFrame(lys_test)"
      ],
      "execution_count": null,
      "outputs": []
    },
    {
      "cell_type": "code",
      "metadata": {
        "id": "RyA7mJAFMkBk"
      },
      "source": [
        "# Remove unnecessary rows and columns\n",
        "hist_train = hist_train.drop(index=0,columns=\"X-Axis\")\n",
        "gly_train = gly_train.drop(index=0,columns=\"X-Axis\")\n",
        "leu_train = leu_train.drop(index=0,columns=\"X-Axis\")\n",
        "asp_train = asp_train.drop(index=0,columns=\"X-Axis\")\n",
        "lys_train = lys_train.drop(index=0,columns=\"X-Axis\")\n",
        "\n",
        "hist_test = hist_test.drop(index=0,columns=\"X-Axis\")\n",
        "gly_test = gly_test.drop(index=0,columns=\"X-Axis\")\n",
        "leu_test = leu_test.drop(index=0,columns=\"X-Axis\")\n",
        "asp_test = asp_test.drop(index=0,columns=\"X-Axis\")\n",
        "lys_test = lys_test.drop(index=0,columns=\"X-Axis\")"
      ],
      "execution_count": null,
      "outputs": []
    },
    {
      "cell_type": "code",
      "metadata": {
        "id": "CH3FqgNfMkBn"
      },
      "source": [
        "# Create labels for the data\n",
        "hist_train_lab = [2]* hist_train.shape[1]\n",
        "gly_train_lab = [1]* gly_train.shape[1]\n",
        "leu_train_lab = [3]* leu_train.shape[1]\n",
        "asp_train_lab = [0]* asp_train.shape[1]\n",
        "lys_train_lab = [4]* lys_train.shape[1]\n",
        "\n",
        "hist_test_lab = [2]* hist_test.shape[1]\n",
        "gly_test_lab = [1]* gly_test.shape[1]\n",
        "leu_test_lab = [3]* leu_test.shape[1]\n",
        "asp_test_lab = [0]* asp_test.shape[1]\n",
        "lys_test_lab = [4]* lys_test.shape[1]\n"
      ],
      "execution_count": null,
      "outputs": []
    },
    {
      "cell_type": "code",
      "metadata": {
        "id": "If29BvkxMkBq"
      },
      "source": [
        "hist_train = hist_train.T\n",
        "gly_train = gly_train.T\n",
        "leu_train = leu_train.T\n",
        "asp_train = asp_train.T\n",
        "lys_train = lys_train.T\n",
        "\n",
        "hist_test = hist_test.T\n",
        "gly_test = gly_test.T\n",
        "leu_test = leu_test.T\n",
        "asp_test = asp_test.T\n",
        "lys_test = lys_test.T"
      ],
      "execution_count": null,
      "outputs": []
    },
    {
      "cell_type": "code",
      "metadata": {
        "id": "nGVrFPe9MkBv"
      },
      "source": [
        "# Add labels to data\n",
        "hist_train['Label'] = hist_train_lab\n",
        "gly_train['Label'] = gly_train_lab\n",
        "leu_train['Label'] = leu_train_lab\n",
        "asp_train['Label'] = asp_train_lab\n",
        "lys_train['Label'] = lys_train_lab \n",
        "\n",
        "hist_test['Label'] = hist_test_lab\n",
        "gly_test['Label'] = gly_test_lab \n",
        "leu_test['Label'] = leu_test_lab \n",
        "asp_test['Label'] = asp_test_lab \n",
        "lys_test['Label'] = lys_test_lab \n"
      ],
      "execution_count": null,
      "outputs": []
    },
    {
      "cell_type": "code",
      "metadata": {
        "id": "FYlHa183MkBy"
      },
      "source": [
        "# Concatinate all data into one dataframe and then shuffle the rows. \n",
        "train = pd.concat([hist_train, gly_train, leu_train, asp_train, lys_train])\n",
        "test = pd.concat([hist_test, gly_test, leu_test, asp_test, lys_test])\n",
        "data = pd.concat([test, train])\n",
        "\n",
        "data = data.sample(frac=1)"
      ],
      "execution_count": null,
      "outputs": []
    },
    {
      "cell_type": "code",
      "metadata": {
        "id": "kOVjpV2EMkB0",
        "colab": {
          "base_uri": "https://localhost:8080/",
          "height": 228
        },
        "outputId": "518d8b22-fa69-46d2-cf8d-c69548d514fc"
      },
      "source": [
        "# \n",
        "data_lab = data.pop(\"Label\")\n",
        "\n",
        "data_lab = np.reshape(np.array(data_lab),(len(data_lab),1))\n",
        "\n",
        "data_inpt = np.array(data)\n"
      ],
      "execution_count": null,
      "outputs": [
        {
          "output_type": "error",
          "ename": "NameError",
          "evalue": "ignored",
          "traceback": [
            "\u001b[0;31m---------------------------------------------------------------------------\u001b[0m",
            "\u001b[0;31mNameError\u001b[0m                                 Traceback (most recent call last)",
            "\u001b[0;32m<ipython-input-4-753caec89ceb>\u001b[0m in \u001b[0;36m<module>\u001b[0;34m()\u001b[0m\n\u001b[1;32m      1\u001b[0m \u001b[0;31m#\u001b[0m\u001b[0;34m\u001b[0m\u001b[0;34m\u001b[0m\u001b[0;34m\u001b[0m\u001b[0m\n\u001b[0;32m----> 2\u001b[0;31m \u001b[0mdata_lab\u001b[0m \u001b[0;34m=\u001b[0m \u001b[0mdata\u001b[0m\u001b[0;34m.\u001b[0m\u001b[0mpop\u001b[0m\u001b[0;34m(\u001b[0m\u001b[0;34m\"Label\"\u001b[0m\u001b[0;34m)\u001b[0m\u001b[0;34m\u001b[0m\u001b[0;34m\u001b[0m\u001b[0m\n\u001b[0m\u001b[1;32m      3\u001b[0m \u001b[0;34m\u001b[0m\u001b[0m\n\u001b[1;32m      4\u001b[0m \u001b[0mdata_lab\u001b[0m \u001b[0;34m=\u001b[0m \u001b[0mnp\u001b[0m\u001b[0;34m.\u001b[0m\u001b[0mreshape\u001b[0m\u001b[0;34m(\u001b[0m\u001b[0mnp\u001b[0m\u001b[0;34m.\u001b[0m\u001b[0marray\u001b[0m\u001b[0;34m(\u001b[0m\u001b[0mdata_lab\u001b[0m\u001b[0;34m)\u001b[0m\u001b[0;34m,\u001b[0m\u001b[0;34m(\u001b[0m\u001b[0mlen\u001b[0m\u001b[0;34m(\u001b[0m\u001b[0mdata_lab\u001b[0m\u001b[0;34m)\u001b[0m\u001b[0;34m,\u001b[0m\u001b[0;36m1\u001b[0m\u001b[0;34m)\u001b[0m\u001b[0;34m)\u001b[0m\u001b[0;34m\u001b[0m\u001b[0;34m\u001b[0m\u001b[0m\n\u001b[1;32m      5\u001b[0m \u001b[0;34m\u001b[0m\u001b[0m\n",
            "\u001b[0;31mNameError\u001b[0m: name 'data' is not defined"
          ]
        }
      ]
    },
    {
      "cell_type": "code",
      "metadata": {
        "id": "TlHkL83fMkB2"
      },
      "source": [
        "data = (data_inpt, data_lab)\n",
        "\n",
        "out_data = open(\"/content/drive/My Drive/Colab Notebooks/data.pickle\",\"wb\")\n",
        "pickle.dump(data, out_data)\n",
        "out_data.close()\n"
      ],
      "execution_count": null,
      "outputs": []
    },
    {
      "cell_type": "code",
      "metadata": {
        "id": "j0bk0u5QMkB5"
      },
      "source": [
        "in_data =open(\"/content/drive/My Drive/Colab Notebooks/data.pickle\", \"rb\")\n",
        "data = pickle.load(in_data)\n",
        "in_data.close()\n"
      ],
      "execution_count": null,
      "outputs": []
    },
    {
      "cell_type": "code",
      "metadata": {
        "id": "8P3WNEdOMkB7"
      },
      "source": [
        "n_feature_maps = 64\n",
        "nb_classes = 5\n",
        "reg_rate = 0\n",
        "\n",
        "\n",
        "input_layer = keras.layers.Input([data[0].shape[1],1])\n",
        "\n",
        "# BLOCK 1\n",
        "\n",
        "conv_x = keras.layers.Conv1D(filters=n_feature_maps, kernel_size=8, kernel_regularizer=regularizers.l2(reg_rate), padding='same')(input_layer)\n",
        "conv_x = keras.layers.BatchNormalization()(conv_x)\n",
        "conv_x = keras.layers.Activation('relu')(conv_x)\n",
        "\n",
        "conv_y = keras.layers.Conv1D(filters=n_feature_maps, kernel_size=5, kernel_regularizer=regularizers.l2(reg_rate), padding='same')(conv_x)\n",
        "conv_y = keras.layers.BatchNormalization()(conv_y)\n",
        "conv_y = keras.layers.Activation('relu')(conv_y)\n",
        "\n",
        "conv_z = keras.layers.Conv1D(filters=n_feature_maps, kernel_size=3, kernel_regularizer=regularizers.l2(reg_rate),padding='same')(conv_y)\n",
        "conv_z = keras.layers.BatchNormalization()(conv_z)\n",
        "\n",
        "# expand channels for the sum\n",
        "shortcut_y = keras.layers.Conv1D(filters=n_feature_maps, kernel_size=1, padding='same')(input_layer)\n",
        "shortcut_y = keras.layers.BatchNormalization()(shortcut_y)\n",
        "\n",
        "output_block_1 = keras.layers.add([shortcut_y, conv_z])\n",
        "output_block_1 = keras.layers.Activation('relu')(output_block_1)\n",
        "output_block_1 = keras.layers.Dropout(.1)(output_block_1)\n",
        "\n",
        "# BLOCK 2\n",
        "\n",
        "conv_x = keras.layers.Conv1D(filters=n_feature_maps * 2, kernel_size=8,kernel_regularizer=regularizers.l2(reg_rate),padding='same')(output_block_1)\n",
        "conv_x = keras.layers.BatchNormalization()(conv_x)\n",
        "conv_x = keras.layers.Activation('relu')(conv_x)\n",
        "\n",
        "conv_y = keras.layers.Conv1D(filters=n_feature_maps * 2, kernel_size=5,kernel_regularizer=regularizers.l2(reg_rate), padding='same')(conv_x)\n",
        "conv_y = keras.layers.BatchNormalization()(conv_y)\n",
        "conv_y = keras.layers.Activation('relu')(conv_y)\n",
        "\n",
        "conv_z = keras.layers.Conv1D(filters=n_feature_maps * 2, kernel_size=3, kernel_regularizer=regularizers.l2(reg_rate),padding='same')(conv_y)\n",
        "conv_z = keras.layers.BatchNormalization()(conv_z)\n",
        "\n",
        "# expand channels for the sum\n",
        "shortcut_y = keras.layers.Conv1D(filters=n_feature_maps * 2, kernel_size=1, padding='same')(output_block_1)\n",
        "shortcut_y = keras.layers.BatchNormalization()(shortcut_y)\n",
        "\n",
        "output_block_2 = keras.layers.add([shortcut_y, conv_z])\n",
        "output_block_2 = keras.layers.Activation('relu')(output_block_2)\n",
        "output_block_2 = keras.layers.Dropout(.1)(output_block_2)\n",
        "# BLOCK 3\n",
        "\n",
        "conv_x = keras.layers.Conv1D(filters=n_feature_maps * 2, kernel_size=8, kernel_regularizer=regularizers.l2(reg_rate), padding='same')(output_block_2)\n",
        "conv_x = keras.layers.BatchNormalization()(conv_x)\n",
        "conv_x = keras.layers.Activation('relu')(conv_x)\n",
        "\n",
        "conv_y = keras.layers.Conv1D(filters=n_feature_maps * 2, kernel_size=5, kernel_regularizer=regularizers.l2(reg_rate),padding='same')(conv_x)\n",
        "conv_y = keras.layers.BatchNormalization()(conv_y)\n",
        "conv_y = keras.layers.Activation('relu')(conv_y)\n",
        "\n",
        "conv_z = keras.layers.Conv1D(filters=n_feature_maps * 2, kernel_size=3, kernel_regularizer=regularizers.l2(reg_rate),padding='same')(conv_y)\n",
        "conv_z = keras.layers.BatchNormalization()(conv_z)\n",
        "\n",
        "# no need to expand channels because they are equal\n",
        "shortcut_y = keras.layers.BatchNormalization()(output_block_2)\n",
        "\n",
        "output_block_3 = keras.layers.add([shortcut_y, conv_z])\n",
        "output_block_3 = keras.layers.Activation('relu')(output_block_3)\n",
        "\n",
        "# FINAL\n",
        "\n",
        "gap_layer = keras.layers.GlobalAveragePooling1D()(output_block_3)\n",
        "\n",
        "output_layer = keras.layers.Dense(128, activation='relu')(gap_layer)\n",
        "output_layer = keras.layers.Dropout(.2)(output_layer)\n",
        "output_layer = keras.layers.Dense(nb_classes, activation='softmax')(output_layer)\n",
        "\n",
        "res_net = keras.models.Model(inputs=input_layer, outputs=output_layer)\n",
        "\n",
        "res_net.compile(loss='categorical_crossentropy',optimizer=keras.optimizers.Adam(learning_rate=.00001),\n",
        "             metrics=['accuracy'])\n"
      ],
      "execution_count": null,
      "outputs": []
    },
    {
      "cell_type": "code",
      "metadata": {
        "id": "C50xV8-aMkB-"
      },
      "source": [
        "# Data preprocessing \n",
        "\n",
        "inpt = data[0].reshape(data[0].shape[0],data[0].shape[1],1)\n",
        "inpt = inpt.astype('float32')\n",
        "\n",
        "lab = data[1]\n",
        "lab = lab.astype('float32')\n",
        "lab = to_categorical(lab)\n",
        "\n",
        "\n",
        "# Discrete wavelet transformation using Haar wavelets.\n",
        "# x_train = pywt.dwt(x_train,'haar')[0]\n",
        "# x_test = pywt.dwt(x_test,'haar')[0]\n"
      ],
      "execution_count": null,
      "outputs": []
    },
    {
      "cell_type": "code",
      "metadata": {
        "id": "1d824Z1SMkCA",
        "colab": {
          "base_uri": "https://localhost:8080/"
        },
        "outputId": "597b6c17-ffdc-4c14-b249-c730d0d116b9"
      },
      "source": [
        "#model = keras.Sequential()\n",
        "#model.add(keras.layers.experimental.preprocessing.Normalization())\n",
        "#model.add(res_net)\n",
        "\n",
        "#model.compile(loss='sparse_categorical_crossentropy', optimizer=keras.optimizers.Adam(),\n",
        "            # metrics=['accuracy'])\n",
        "\n",
        "\n",
        "trained = res_net.fit(inpt, lab, epochs = 25, batch_size=64,validation_split=.2)"
      ],
      "execution_count": null,
      "outputs": [
        {
          "output_type": "stream",
          "text": [
            "Epoch 1/25\n",
            "163/163 [==============================] - 21s 131ms/step - loss: 1.4516 - accuracy: 0.3888 - val_loss: 1.6090 - val_accuracy: 0.1827\n",
            "Epoch 2/25\n",
            "163/163 [==============================] - 21s 129ms/step - loss: 1.1145 - accuracy: 0.6100 - val_loss: 1.3715 - val_accuracy: 0.3181\n",
            "Epoch 3/25\n",
            "163/163 [==============================] - 21s 130ms/step - loss: 0.8792 - accuracy: 0.7720 - val_loss: 1.0105 - val_accuracy: 0.6492\n",
            "Epoch 4/25\n",
            "163/163 [==============================] - 21s 131ms/step - loss: 0.6295 - accuracy: 0.8695 - val_loss: 0.6151 - val_accuracy: 0.8800\n",
            "Epoch 5/25\n",
            "163/163 [==============================] - 21s 132ms/step - loss: 0.4757 - accuracy: 0.8982 - val_loss: 0.3964 - val_accuracy: 0.9542\n",
            "Epoch 6/25\n",
            "163/163 [==============================] - 22s 132ms/step - loss: 0.3651 - accuracy: 0.9314 - val_loss: 0.2772 - val_accuracy: 0.9842\n",
            "Epoch 7/25\n",
            "163/163 [==============================] - 22s 133ms/step - loss: 0.2737 - accuracy: 0.9668 - val_loss: 0.1893 - val_accuracy: 0.9950\n",
            "Epoch 8/25\n",
            "163/163 [==============================] - 22s 133ms/step - loss: 0.2099 - accuracy: 0.9878 - val_loss: 0.1319 - val_accuracy: 0.9969\n",
            "Epoch 9/25\n",
            "163/163 [==============================] - 22s 133ms/step - loss: 0.1639 - accuracy: 0.9926 - val_loss: 0.0949 - val_accuracy: 0.9977\n",
            "Epoch 10/25\n",
            "163/163 [==============================] - 22s 134ms/step - loss: 0.1275 - accuracy: 0.9938 - val_loss: 0.0711 - val_accuracy: 0.9985\n",
            "Epoch 11/25\n",
            "163/163 [==============================] - 22s 134ms/step - loss: 0.1025 - accuracy: 0.9955 - val_loss: 0.0523 - val_accuracy: 0.9981\n",
            "Epoch 12/25\n",
            "163/163 [==============================] - 22s 134ms/step - loss: 0.0807 - accuracy: 0.9965 - val_loss: 0.0395 - val_accuracy: 0.9981\n",
            "Epoch 13/25\n",
            "163/163 [==============================] - 22s 135ms/step - loss: 0.0679 - accuracy: 0.9962 - val_loss: 0.0325 - val_accuracy: 0.9985\n",
            "Epoch 14/25\n",
            "163/163 [==============================] - 22s 135ms/step - loss: 0.0579 - accuracy: 0.9966 - val_loss: 0.0266 - val_accuracy: 0.9985\n",
            "Epoch 15/25\n",
            "163/163 [==============================] - 22s 135ms/step - loss: 0.0501 - accuracy: 0.9971 - val_loss: 0.0216 - val_accuracy: 0.9988\n",
            "Epoch 16/25\n",
            "163/163 [==============================] - 22s 135ms/step - loss: 0.0464 - accuracy: 0.9961 - val_loss: 0.0177 - val_accuracy: 0.9988\n",
            "Epoch 17/25\n",
            "163/163 [==============================] - 22s 135ms/step - loss: 0.0373 - accuracy: 0.9974 - val_loss: 0.0160 - val_accuracy: 1.0000\n",
            "Epoch 18/25\n",
            "163/163 [==============================] - 22s 135ms/step - loss: 0.0331 - accuracy: 0.9967 - val_loss: 0.0128 - val_accuracy: 0.9996\n",
            "Epoch 19/25\n",
            "163/163 [==============================] - 22s 135ms/step - loss: 0.0280 - accuracy: 0.9976 - val_loss: 0.0108 - val_accuracy: 1.0000\n",
            "Epoch 20/25\n",
            "163/163 [==============================] - 22s 135ms/step - loss: 0.0244 - accuracy: 0.9982 - val_loss: 0.0091 - val_accuracy: 1.0000\n",
            "Epoch 21/25\n",
            "163/163 [==============================] - 22s 135ms/step - loss: 0.0226 - accuracy: 0.9979 - val_loss: 0.0087 - val_accuracy: 1.0000\n",
            "Epoch 22/25\n",
            "163/163 [==============================] - 22s 135ms/step - loss: 0.0196 - accuracy: 0.9986 - val_loss: 0.0075 - val_accuracy: 1.0000\n",
            "Epoch 23/25\n",
            "163/163 [==============================] - 22s 135ms/step - loss: 0.0178 - accuracy: 0.9994 - val_loss: 0.0062 - val_accuracy: 1.0000\n",
            "Epoch 24/25\n",
            "163/163 [==============================] - 22s 135ms/step - loss: 0.0165 - accuracy: 0.9987 - val_loss: 0.0058 - val_accuracy: 1.0000\n",
            "Epoch 25/25\n",
            "163/163 [==============================] - 22s 135ms/step - loss: 0.0148 - accuracy: 0.9988 - val_loss: 0.0050 - val_accuracy: 1.0000\n"
          ],
          "name": "stdout"
        }
      ]
    },
    {
      "cell_type": "code",
      "metadata": {
        "id": "Sf7v6GDBMkCC",
        "colab": {
          "base_uri": "https://localhost:8080/"
        },
        "outputId": "d29593ed-bbc3-4da2-fb53-48a52626f309"
      },
      "source": [
        "res_net.save('/content/drive/MyDrive/Colab Notebooks/trained_class')"
      ],
      "execution_count": null,
      "outputs": [
        {
          "output_type": "stream",
          "text": [
            "INFO:tensorflow:Assets written to: /content/drive/MyDrive/Colab Notebooks/trained_class/assets\n"
          ],
          "name": "stdout"
        }
      ]
    },
    {
      "cell_type": "code",
      "metadata": {
        "id": "5HAKXotKMkCE",
        "colab": {
          "base_uri": "https://localhost:8080/",
          "height": 228
        },
        "outputId": "d42ac554-5a42-4a6c-a5d7-35454b60e01c"
      },
      "source": [
        "plt.plot(epoch_vec, accuracy_vec, label='Accuracy')\n",
        "plt.xlabel('Epoch')\n",
        "plt.ylabel('Accuracy')\n",
        "plt.ylim([0, 1])\n",
        "plt.legend(loc='lower right')\n",
        "\n",
        "plt.savefig(\"training.png\")"
      ],
      "execution_count": null,
      "outputs": [
        {
          "output_type": "error",
          "ename": "NameError",
          "evalue": "ignored",
          "traceback": [
            "\u001b[0;31m---------------------------------------------------------------------------\u001b[0m",
            "\u001b[0;31mNameError\u001b[0m                                 Traceback (most recent call last)",
            "\u001b[0;32m<ipython-input-1-2ed0e42ee07c>\u001b[0m in \u001b[0;36m<module>\u001b[0;34m()\u001b[0m\n\u001b[0;32m----> 1\u001b[0;31m \u001b[0mplt\u001b[0m\u001b[0;34m.\u001b[0m\u001b[0mplot\u001b[0m\u001b[0;34m(\u001b[0m\u001b[0mepoch_vec\u001b[0m\u001b[0;34m,\u001b[0m \u001b[0maccuracy_vec\u001b[0m\u001b[0;34m,\u001b[0m \u001b[0mlabel\u001b[0m\u001b[0;34m=\u001b[0m\u001b[0;34m'Accuracy'\u001b[0m\u001b[0;34m)\u001b[0m\u001b[0;34m\u001b[0m\u001b[0;34m\u001b[0m\u001b[0m\n\u001b[0m\u001b[1;32m      2\u001b[0m \u001b[0mplt\u001b[0m\u001b[0;34m.\u001b[0m\u001b[0mxlabel\u001b[0m\u001b[0;34m(\u001b[0m\u001b[0;34m'Epoch'\u001b[0m\u001b[0;34m)\u001b[0m\u001b[0;34m\u001b[0m\u001b[0;34m\u001b[0m\u001b[0m\n\u001b[1;32m      3\u001b[0m \u001b[0mplt\u001b[0m\u001b[0;34m.\u001b[0m\u001b[0mylabel\u001b[0m\u001b[0;34m(\u001b[0m\u001b[0;34m'Accuracy'\u001b[0m\u001b[0;34m)\u001b[0m\u001b[0;34m\u001b[0m\u001b[0;34m\u001b[0m\u001b[0m\n\u001b[1;32m      4\u001b[0m \u001b[0mplt\u001b[0m\u001b[0;34m.\u001b[0m\u001b[0mylim\u001b[0m\u001b[0;34m(\u001b[0m\u001b[0;34m[\u001b[0m\u001b[0;36m0\u001b[0m\u001b[0;34m,\u001b[0m \u001b[0;36m1\u001b[0m\u001b[0;34m]\u001b[0m\u001b[0;34m)\u001b[0m\u001b[0;34m\u001b[0m\u001b[0;34m\u001b[0m\u001b[0m\n\u001b[1;32m      5\u001b[0m \u001b[0mplt\u001b[0m\u001b[0;34m.\u001b[0m\u001b[0mlegend\u001b[0m\u001b[0;34m(\u001b[0m\u001b[0mloc\u001b[0m\u001b[0;34m=\u001b[0m\u001b[0;34m'lower right'\u001b[0m\u001b[0;34m)\u001b[0m\u001b[0;34m\u001b[0m\u001b[0;34m\u001b[0m\u001b[0m\n",
            "\u001b[0;31mNameError\u001b[0m: name 'plt' is not defined"
          ]
        }
      ]
    },
    {
      "cell_type": "code",
      "metadata": {
        "id": "MDrXROr0MkCH"
      },
      "source": [
        ""
      ],
      "execution_count": null,
      "outputs": []
    }
  ]
}